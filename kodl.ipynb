{
 "cells": [
  {
   "cell_type": "code",
   "execution_count": 18,
   "metadata": {
    "collapsed": false
   },
   "outputs": [],
   "source": [
    "import pandas\n",
    "import requests\n",
    "import json"
   ]
  },
  {
   "cell_type": "code",
   "execution_count": 19,
   "metadata": {
    "collapsed": false,
    "scrolled": true
   },
   "outputs": [],
   "source": [
    "url = \"https://data.nasa.gov/resource/y77d-th95.json?$where=mass>5000000\""
   ]
  },
  {
   "cell_type": "code",
   "execution_count": 20,
   "metadata": {
    "collapsed": false
   },
   "outputs": [],
   "source": [
    "response = requests.get(url)"
   ]
  },
  {
   "cell_type": "code",
   "execution_count": 21,
   "metadata": {
    "collapsed": false
   },
   "outputs": [],
   "source": [
    "if response.status_code == 200:\n",
    "    # following line puts json file into a python list\n",
    "    data = response.json()"
   ]
  },
  {
   "cell_type": "code",
   "execution_count": 22,
   "metadata": {
    "collapsed": true
   },
   "outputs": [],
   "source": [
    "df = pandas.DataFrame(data)"
   ]
  },
  {
   "cell_type": "code",
   "execution_count": 23,
   "metadata": {
    "collapsed": false
   },
   "outputs": [
    {
     "name": "stdout",
     "output_type": "stream",
     "text": [
      "<class 'pandas.core.frame.DataFrame'>\n"
     ]
    }
   ],
   "source": [
    "print(type(df))"
   ]
  },
  {
   "cell_type": "code",
   "execution_count": 25,
   "metadata": {
    "collapsed": false
   },
   "outputs": [
    {
     "name": "stdout",
     "output_type": "stream",
     "text": [
      "     fall                                        geolocation     id      mass  \\\n",
      "0    Fell  {'type': 'Point', 'coordinates': [134.65333, 4...  23593  23000000   \n",
      "1   Found         {'type': 'Point', 'coordinates': [88, 47]}   2335  28000000   \n",
      "2   Found  {'type': 'Point', 'coordinates': [-107.83333, ...   4919  22000000   \n",
      "3   Found  {'type': 'Point', 'coordinates': [-39.2, -10.1...   5015   5360000   \n",
      "4   Found  {'type': 'Point', 'coordinates': [-60.58333, -...   5247  50000000   \n",
      "5   Found  {'type': 'Point', 'coordinates': [-111.03333, ...   5257  30000000   \n",
      "6   Found  {'type': 'Point', 'coordinates': [-64.93333, 7...   5262  58200000   \n",
      "7   Found     {'type': 'Point', 'coordinates': [-105.1, 27]}   5363  24300000   \n",
      "8   Found   {'type': 'Point', 'coordinates': [145.3, -38.1]}   5463   8600000   \n",
      "9   Found      {'type': 'Point', 'coordinates': [18, -25.5]}  10912  26000000   \n",
      "10  Found  {'type': 'Point', 'coordinates': [17.91667, -1...  11890  60000000   \n",
      "11  Found  {'type': 'Point', 'coordinates': [33.06667, -9...  15456  16000000   \n",
      "12  Found  {'type': 'Point', 'coordinates': [-105.43333, ...  16745  10100000   \n",
      "13  Found  {'type': 'Point', 'coordinates': [127.55, -30....  16852  24000000   \n",
      "14  Found    {'type': 'Point', 'coordinates': [107.7, 25.1]}  16906   9500000   \n",
      "15  Found  {'type': 'Point', 'coordinates': [-48.6, -26.2...  23162   7000000   \n",
      "16  Found  {'type': 'Point', 'coordinates': [-122.58333, ...  24269  15500000   \n",
      "\n",
      "               name nametype         recclass      reclat      reclong  \\\n",
      "0      Sikhote-Alin    Valid       Iron, IIAB   46.160000   134.653330   \n",
      "1           Armanty    Valid       Iron, IIIE   47.000000    88.000000   \n",
      "2        Bacubirito    Valid  Iron, ungrouped   26.200000  -107.833330   \n",
      "3           Bendegó    Valid         Iron, IC  -10.116670   -39.200000   \n",
      "4   Campo del Cielo    Valid     Iron, IAB-MG  -27.466670   -60.583330   \n",
      "5     Canyon Diablo    Valid     Iron, IAB-MG   35.050000  -111.033330   \n",
      "6         Cape York    Valid      Iron, IIIAB   76.133330   -64.933330   \n",
      "7        Chupaderos    Valid      Iron, IIIAB   27.000000  -105.100000   \n",
      "8        Cranbourne    Valid     Iron, IAB-MG  -38.100000   145.300000   \n",
      "9            Gibeon    Valid        Iron, IVA  -25.500000    18.000000   \n",
      "10             Hoba    Valid        Iron, IVB  -19.583330    17.916670   \n",
      "11            Mbosi    Valid  Iron, ungrouped   -9.116670    33.066670   \n",
      "12           Morito    Valid      Iron, IIIAB   27.050000  -105.433330   \n",
      "13      Mundrabilla    Valid    Iron, IAB-ung  -30.783330   127.550000   \n",
      "14           Nantan    Valid     Iron, IAB-MG   25.100000   107.700000   \n",
      "15  Santa Catharina    Valid    Iron, IAB-ung  -26.216670   -48.600000   \n",
      "16       Willamette    Valid      Iron, IIIAB   45.366670  -122.583330   \n",
      "\n",
      "                       year  \n",
      "0   1947-01-01T00:00:00.000  \n",
      "1   1898-01-01T00:00:00.000  \n",
      "2   1863-01-01T00:00:00.000  \n",
      "3   1784-01-01T00:00:00.000  \n",
      "4   1576-01-01T00:00:00.000  \n",
      "5   1891-01-01T00:00:00.000  \n",
      "6   1818-01-01T00:00:00.000  \n",
      "7   1852-01-01T00:00:00.000  \n",
      "8   1854-01-01T00:00:00.000  \n",
      "9   1836-01-01T00:00:00.000  \n",
      "10  1920-01-01T00:00:00.000  \n",
      "11  1930-01-01T00:00:00.000  \n",
      "12  1600-01-01T00:00:00.000  \n",
      "13  1911-01-01T00:00:00.000  \n",
      "14  1958-01-01T00:00:00.000  \n",
      "15  1875-01-01T00:00:00.000  \n",
      "16  1902-01-01T00:00:00.000  \n"
     ]
    }
   ],
   "source": [
    "print(df)"
   ]
  },
  {
   "cell_type": "code",
   "execution_count": null,
   "metadata": {
    "collapsed": true
   },
   "outputs": [],
   "source": []
  }
 ],
 "metadata": {
  "kernelspec": {
   "display_name": "Python 3",
   "language": "python",
   "name": "python3"
  },
  "language_info": {
   "codemirror_mode": {
    "name": "ipython",
    "version": 3
   },
   "file_extension": ".py",
   "mimetype": "text/x-python",
   "name": "python",
   "nbconvert_exporter": "python",
   "pygments_lexer": "ipython3",
   "version": "3.5.2"
  }
 },
 "nbformat": 4,
 "nbformat_minor": 2
}
